{
 "cells": [
  {
   "cell_type": "code",
   "execution_count": 94,
   "metadata": {},
   "outputs": [
    {
     "name": "stdout",
     "output_type": "stream",
     "text": [
      "{'SPECIAL SECRET HEARTS: ': 1, 'SECRET HEARTS: A ': 1, \"HEARTS: A Child's \": 1, \"A Child's Introduction \": 1, \"Child's Introduction to \": 1, 'Introduction to Dementia ': 1, 'to Dementia and ': 1, 'Dementia and Pink ': 1, 'and Pink Curls ': 1, 'Pink Curls - ': 1, 'Curls - A ': 1, '- A Santa ': 1, 'A Santa ... ': 1, 'Santa ... - ': 1, '... - http://t.co/UWCdc8FA9a ': 1, '- http://t.co/UWCdc8FA9a http://t.co/meexKLGTKl': 1}\n",
      "{'\"Santa Claus Is ': 1, 'Claus Is Coming ': 1, 'Is Coming To ': 1, 'Coming To Town ': 1, 'To Town #MTVHottest ': 1, 'Town #MTVHottest Justin ': 1, '#MTVHottest Justin Bieber\"': 1}\n",
      "{'RT @BuyBookstore: SPECIAL ': 1, '@BuyBookstore: SPECIAL SECRET ': 1, 'SPECIAL SECRET HEARTS: ': 1, 'SECRET HEARTS: A ': 1, \"HEARTS: A Child's \": 1, \"A Child's Introduction \": 1, \"Child's Introduction to \": 1, 'Introduction to Dementia ': 1, 'to Dementia and ': 1, 'Dementia and Pink ': 1, 'and Pink Curls ': 1, 'Pink Curls - ': 1, 'Curls - A ': 1, '- A Santa ': 1, 'A Santa ... ': 1, 'Santa ... - ': 1, '... - http://t.co/UWCdc8FA9a ': 1, '- http://t.co/UWCdc8FA9a http://t.Â…': 1}\n",
      "{'\"RT @DrewFtDevonne_: Rt ': 1, '@DrewFtDevonne_: Rt si ': 1, 'Rt si te ': 1, 'si te gusta ': 1, 'te gusta Santa ': 1, 'gusta Santa Claus ': 1, 'Santa Claus Is ': 1, 'Claus Is Coming ': 1, 'Is Coming To ': 1, 'Coming To Town ': 1, 'To Town #MTVHottest ': 1, 'Town #MTVHottest Justin ': 1, '#MTVHottest Justin Bieber\"': 1}\n",
      "{'\"Rt si te ': 1, 'si te gusta ': 1, 'te gusta Santa ': 1, 'gusta Santa Claus ': 1, 'Santa Claus Is ': 1, 'Claus Is Coming ': 1, 'Is Coming To ': 1, 'Coming To Town ': 1, 'To Town #MTVHottest ': 1, 'Town #MTVHottest Justin ': 1, '#MTVHottest Justin Bieber\"': 1}\n",
      "0.0\n",
      "0.0\n",
      "0.0\n",
      "0.8362420100070908\n"
     ]
    }
   ],
   "source": [
    "import re\n",
    "\n",
    "file = open('Santa.txt','r')\n",
    "santa = file.read()\n",
    "out_list = []\n",
    "for line in santa:\n",
    "    santa.rstrip()\n",
    "    out_list = santa.split('\\n')\n",
    "out_list.remove('')\n",
    "file.close()\n",
    "\n",
    "g=0\n",
    "a_list = []\n",
    "for i in out_list:\n",
    "    a_list.append(re.findall('\\S+\\s?',out_list[g]))\n",
    "    g +=1\n",
    "    \n",
    "def newlist(list):\n",
    "    x = a_list[list]\n",
    "    return x\n",
    "\n",
    "def dividelist(list):\n",
    "    x = newlist(list)\n",
    "    b = []\n",
    "    i = 0\n",
    "    for i in range (0, len(x)-2):\n",
    "        b.append(x[i]+x[i+1]+x[i+2])\n",
    "        i+=1\n",
    "    return b\n",
    "\n",
    "def moving_window(list):\n",
    "    x = dividelist(list)\n",
    "    b = {}\n",
    "    i = 0\n",
    "    for i in range(0,len(x)):\n",
    "        b[x[i]] = 1\n",
    "        i += 1\n",
    "    return b\n",
    "\n",
    "for i in range (0,len(a_list)):\n",
    "    print(moving_window(i))\n",
    "\n",
    "import math\n",
    "def cosine(tweet1,tweet2):\n",
    "    x = list(moving_window(tweet1).keys())\n",
    "    y = list(moving_window(tweet2).keys())\n",
    "    matches = 0\n",
    "    for i in x:\n",
    "        if i in y:\n",
    "            matches += 1\n",
    "    q = matches/math.sqrt(len(x)*len(y))\n",
    "    return q\n",
    "\n",
    "for i in range (0,len(a_list)-1):\n",
    "    print(cosine(i, i + 1))\n"
   ]
  },
  {
   "cell_type": "code",
   "execution_count": 7,
   "metadata": {},
   "outputs": [
    {
     "name": "stdout",
     "output_type": "stream",
     "text": [
      "{'m1': 1}\n",
      "{'m1': 1, 'm2': 1}\n",
      "{'m1': 1, 'm2': 1, 'm3': 1}\n",
      "{'m1': 1, 'm2': 1, 'm3': 1, 'm4': 1}\n"
     ]
    }
   ],
   "source": [
    "obj = {}\n",
    "for i in range(1,5):\n",
    "    obj['m'+str(i)] = 1\n",
    "    print(obj)"
   ]
  },
  {
   "cell_type": "code",
   "execution_count": null,
   "metadata": {},
   "outputs": [],
   "source": [
    "for i in range(0,len(a_list)):\n",
    "    p=0\n",
    "    while p <= len(a_list[l])-3:\n",
    "        new_list.append(a_list[l][p]+a_list[l][p+1]+a_list[l][p+2])\n",
    "        p += 1\n",
    "    l += 1\n"
   ]
  },
  {
   "cell_type": "code",
   "execution_count": 6,
   "metadata": {},
   "outputs": [
    {
     "name": "stdout",
     "output_type": "stream",
     "text": [
      "{1: 1}\n"
     ]
    }
   ],
   "source": [
    "out_dict = {}\n",
    "i = 0\n",
    "for i in range (0, len(a_list)):\n",
    "    p = 0\n",
    "    while p <= len(a_list[i]) - 3:\n",
    "        \n",
    "    "
   ]
  }
 ],
 "metadata": {
  "kernelspec": {
   "display_name": "Python 3",
   "language": "python",
   "name": "python3"
  },
  "language_info": {
   "codemirror_mode": {
    "name": "ipython",
    "version": 3
   },
   "file_extension": ".py",
   "mimetype": "text/x-python",
   "name": "python",
   "nbconvert_exporter": "python",
   "pygments_lexer": "ipython3",
   "version": "3.7.6"
  }
 },
 "nbformat": 4,
 "nbformat_minor": 4
}
