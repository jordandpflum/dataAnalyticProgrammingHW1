{
 "cells": [
  {
   "cell_type": "code",
   "execution_count": 8,
   "metadata": {},
   "outputs": [
    {
     "data": {
      "text/plain": [
       "{'the': 2,\n",
       " 'heart': 1,\n",
       " 'has': 1,\n",
       " 'its': 1,\n",
       " 'reasons': 1,\n",
       " 'of': 1,\n",
       " 'which': 1,\n",
       " 'mind': 1,\n",
       " 'knows': 1,\n",
       " 'nothing': 1,\n",
       " '-': 1,\n",
       " 'blaise': 1,\n",
       " 'pascal': 1}"
      ]
     },
     "execution_count": 8,
     "metadata": {},
     "output_type": "execute_result"
    }
   ],
   "source": [
    "file = open('quotes.txt','r')\n",
    "out_list = file.read()\n",
    "out_list = out_list.split('\\n')\n",
    "out_list.remove('')\n",
    "quotes = out_list[0::2]\n",
    "quotes = [x+ ' - ' for x in quotes]\n",
    "authors = out_list[1::2]\n",
    "final_list = [quotes[i] + authors[i] for i in range(len(quotes))]\n",
    "\n",
    "import re\n",
    "def splitquotes(x):\n",
    "    x = x.lower()\n",
    "    a_list = []\n",
    "    a_list = re.findall('[a-zA-Z0-9-]+',x)\n",
    "    return (a_list)\n",
    "splitquotes('The heart has its reasons, of which the mind knows nothing. - Blaise Pascal')\n",
    "\n",
    "def get_dict(x):\n",
    "    a = splitquotes(x)\n",
    "    b = {}\n",
    "    i = 0\n",
    "    for i in range(0, len(a)):\n",
    "        b[a[i]] = a.count(a[i])\n",
    "        i += 1\n",
    "    return b\n",
    "get_dict('The heart has its reasons, of which the mind knows nothing. - Blaise Pascal')"
   ]
  }
 ],
 "metadata": {
  "kernelspec": {
   "display_name": "Python 3",
   "language": "python",
   "name": "python3"
  },
  "language_info": {
   "codemirror_mode": {
    "name": "ipython",
    "version": 3
   },
   "file_extension": ".py",
   "mimetype": "text/x-python",
   "name": "python",
   "nbconvert_exporter": "python",
   "pygments_lexer": "ipython3",
   "version": "3.7.6"
  }
 },
 "nbformat": 4,
 "nbformat_minor": 4
}
