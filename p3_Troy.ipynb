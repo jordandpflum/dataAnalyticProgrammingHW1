{
 "cells": [
  {
   "cell_type": "markdown",
   "metadata": {},
   "source": [
    "**Problem 3**"
   ]
  },
  {
   "cell_type": "markdown",
   "metadata": {},
   "source": [
    "*Part (a)*"
   ]
  },
  {
   "cell_type": "code",
   "execution_count": null,
   "metadata": {},
   "outputs": [],
   "source": [
    "def moving_window(tweet):\n",
    "    words = tweet.split()\n",
    "    phrases = {}\n",
    "    for i in range(len(words)-2):\n",
    "        phrases.update({words[i]+' '+words[i+1]+' '+words[i+2]:1})\n",
    "    \n",
    "    return phrases"
   ]
  },
  {
   "cell_type": "markdown",
   "metadata": {},
   "source": [
    "*Part (b)*"
   ]
  },
  {
   "cell_type": "code",
   "execution_count": null,
   "metadata": {},
   "outputs": [],
   "source": [
    "def cosine(tweet1,tweet2):\n",
    "    matches = 0\n",
    "    n1 = len(tweet1)\n",
    "    n2 = len(tweet2)\n",
    "    \n",
    "    # Return 0 if one argument is empty\n",
    "    if n1 == 0 or n2 == 0:\n",
    "        return 0\n",
    "    \n",
    "    # Count how many phrases match\n",
    "    for key1 in tweet1.keys():\n",
    "        for key2 in tweet2.keys():\n",
    "            if key1 == key2:\n",
    "                matches += 1\n",
    "    \n",
    "    return matches/(n1*n2)**(1/2)"
   ]
  },
  {
   "cell_type": "markdown",
   "metadata": {},
   "source": [
    "*Part (c)*"
   ]
  },
  {
   "cell_type": "code",
   "execution_count": null,
   "metadata": {},
   "outputs": [],
   "source": [
    "# Stores each tweet as string\n",
    "tweets = []\n",
    "# Stores the phrases dictionary of each tweet\n",
    "tweet_dicts = []\n",
    "\n",
    "fp = open('Santa.txt','r')\n",
    "\n",
    "tweet = fp.readline()\n",
    "while tweet != '':\n",
    "    \n",
    "    # Eliminate extra chars after tweet\n",
    "    tweet = tweet.rstrip()\n",
    "    \n",
    "    # Convert string into dictionary of phrases\n",
    "    phrases = moving_window(tweet)\n",
    "    \n",
    "    # Find similarity between current tweet and all previous tweets\n",
    "    dups = [] # Resets dups for each new tweet\n",
    "    for i, t in enumerate(tweet_dicts):\n",
    "        # Check if any previous tweets are similar enough to current tweet\n",
    "        if cosine(t,phrases) > 0.5:\n",
    "            # Save the tweets that are near duplicates of the current one\n",
    "            dups.append(tweets[i])\n",
    "        \n",
    "    # Report which tweets were similar\n",
    "    print(tweet+' is similar to the following previous tweets:\\n'+str(dups))####EDIT\n",
    "        \n",
    "    # Add current tweet to list of previous tweets\n",
    "    tweet_dicts.append(phrases)\n",
    "    tweets.append(tweet)\n",
    "    \n",
    "    # Read next line of Santa.txt to get next tweet (or end the loop)\n",
    "    tweet = fp.readline()\n",
    "    \n",
    "fp.close()"
   ]
  },
  {
   "cell_type": "code",
   "execution_count": null,
   "metadata": {},
   "outputs": [],
   "source": []
  }
 ],
 "metadata": {
  "kernelspec": {
   "display_name": "Python 3",
   "language": "python",
   "name": "python3"
  },
  "language_info": {
   "codemirror_mode": {
    "name": "ipython",
    "version": 3
   },
   "file_extension": ".py",
   "mimetype": "text/x-python",
   "name": "python",
   "nbconvert_exporter": "python",
   "pygments_lexer": "ipython3",
   "version": "3.7.6"
  }
 },
 "nbformat": 4,
 "nbformat_minor": 4
}
